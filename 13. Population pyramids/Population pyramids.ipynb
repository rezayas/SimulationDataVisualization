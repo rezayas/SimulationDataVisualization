{
 "cells": [
  {
   "cell_type": "code",
   "execution_count": 1,
   "metadata": {
    "collapsed": true
   },
   "outputs": [],
   "source": [
    "# Load required modules ===============================================================\n",
    "%matplotlib inline\n",
    "import numpy as np\n",
    "import pandas as pd\n",
    "import matplotlib.pyplot as plt\n",
    "import matplotlib as mpl\n",
    "import sys\n",
    "reload(sys)\n",
    "sys.setdefaultencoding(\"utf-8\")"
   ]
  },
  {
   "cell_type": "code",
   "execution_count": 2,
   "metadata": {
    "collapsed": false
   },
   "outputs": [],
   "source": [
    "# Load data/Read in CSV files ===============================================================\n",
    "df= pd.read_csv('****Data****.csv')"
   ]
  },
  {
   "cell_type": "code",
   "execution_count": 17,
   "metadata": {
    "collapsed": false
   },
   "outputs": [],
   "source": [
    "mpl.style.use('classic') # Use classic MPL layout\n",
    "fig, ax = plt.subplots(ncols=2, sharey=True)\n",
    "ax[0].barh(range(0,len(df['AGE']),1), df['MALE'], color='blue', \n",
    "          align = 'center')\n",
    "ax[1].barh(range(0,len(df['AGE']),1), df['FEMALE'], color='RED',\n",
    "          align = 'center')\n",
    "fig.canvas.draw()\n",
    "ax[0].invert_xaxis()\n",
    "ax[0].set_yticks(range(0,len(df['AGE']),1))\n",
    "ax[0].set_yticklabels(df['AGE'])\n",
    "ax[0].yaxis.tick_right()\n",
    "ax[0].set_ylim([-1,len(df['AGE'])])\n",
    "ax_0_labels = ax[0].get_xticklabels()\n",
    "ax_1_labels = ax[1].get_xticklabels()\n",
    "ax[0].set_xticklabels(ax_0_labels, fontsize = 8)\n",
    "ax[1].set_xticklabels(ax_1_labels, fontsize = 8)\n",
    "plt.suptitle('Population Pyramid\\nYale School of Public Health')\n",
    "plt.tight_layout() # Ensure tight layout so legend/labels are not cut off\n",
    "plt.savefig('population_pyramid.pdf') # Save plot to PDF"
   ]
  }
 ],
 "metadata": {
  "kernelspec": {
   "display_name": "Python 2",
   "language": "python",
   "name": "python2"
  },
  "language_info": {
   "codemirror_mode": {
    "name": "ipython",
    "version": 2
   },
   "file_extension": ".py",
   "mimetype": "text/x-python",
   "name": "python",
   "nbconvert_exporter": "python",
   "pygments_lexer": "ipython2",
   "version": "2.7.13"
  }
 },
 "nbformat": 4,
 "nbformat_minor": 2
}
