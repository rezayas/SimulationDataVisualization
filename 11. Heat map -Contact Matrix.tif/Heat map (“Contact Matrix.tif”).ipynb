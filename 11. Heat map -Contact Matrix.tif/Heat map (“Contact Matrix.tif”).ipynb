{
 "cells": [
  {
   "cell_type": "code",
   "execution_count": 1,
   "metadata": {
    "collapsed": true
   },
   "outputs": [],
   "source": [
    "# Load required modules ===============================================================\n",
    "%matplotlib inline\n",
    "import numpy as np\n",
    "import pandas as pd\n",
    "import matplotlib.pyplot as plt\n",
    "import matplotlib as mpl\n",
    "import seaborn as sns"
   ]
  },
  {
   "cell_type": "code",
   "execution_count": 2,
   "metadata": {
    "collapsed": false
   },
   "outputs": [],
   "source": [
    "# Load data/Read in CSV files ===============================================================\n",
    "df = pd.read_csv('****Data****.csv')"
   ]
  },
  {
   "cell_type": "code",
   "execution_count": null,
   "metadata": {
    "collapsed": true
   },
   "outputs": [],
   "source": [
    "# Transform the data ===============================================================\n",
    "df = df.drop('Unnamed: 0', axis=1) # drop the indexing column\n",
    "df = df.pivot('Age Group','Age Group','Frequency') # transform the dataset to matrix form"
   ]
  },
  {
   "cell_type": "code",
   "execution_count": 1,
   "metadata": {
    "collapsed": false
   },
   "outputs": [],
   "source": [
    "mpl.style.use('classic') # Use classic MPL layout\n",
    "sns.heatmap(df, cmap='spectral', cbar_kws = {'label':'Contacts per Day'}) # Plot heatmap with legend label, Contacts\n",
    "                                                                          # per Day and color palette, spectral\n",
    "plt.xlabel('Age Group')\n",
    "plt.ylabel('Age Group')\n",
    "plt.title('Contact Matrix')\n",
    "plt.tight_layout() # Ensure tight layout so legend/labels are not cut off\n",
    "plt.savefig('Contract Matrix.pdf') # Save plot to PDF"
   ]
  }
 ],
 "metadata": {
  "kernelspec": {
   "display_name": "Python 2",
   "language": "python",
   "name": "python2"
  },
  "language_info": {
   "codemirror_mode": {
    "name": "ipython",
    "version": 2
   },
   "file_extension": ".py",
   "mimetype": "text/x-python",
   "name": "python",
   "nbconvert_exporter": "python",
   "pygments_lexer": "ipython2",
   "version": "2.7.13"
  }
 },
 "nbformat": 4,
 "nbformat_minor": 2
}
